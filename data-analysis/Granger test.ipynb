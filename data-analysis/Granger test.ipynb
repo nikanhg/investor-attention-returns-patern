{
 "cells": [
  {
   "cell_type": "code",
   "execution_count": 2,
   "metadata": {},
   "outputs": [],
   "source": [
    "import pandas as pd"
   ]
  },
  {
   "cell_type": "code",
   "execution_count": 8,
   "metadata": {},
   "outputs": [
    {
     "data": {
      "text/html": [
       "<div>\n",
       "<style scoped>\n",
       "    .dataframe tbody tr th:only-of-type {\n",
       "        vertical-align: middle;\n",
       "    }\n",
       "\n",
       "    .dataframe tbody tr th {\n",
       "        vertical-align: top;\n",
       "    }\n",
       "\n",
       "    .dataframe thead th {\n",
       "        text-align: right;\n",
       "    }\n",
       "</style>\n",
       "<table border=\"1\" class=\"dataframe\">\n",
       "  <thead>\n",
       "    <tr style=\"text-align: right;\">\n",
       "      <th></th>\n",
       "      <th>Unnamed: 0</th>\n",
       "      <th>Rank</th>\n",
       "      <th>Name</th>\n",
       "      <th>Symbol</th>\n",
       "      <th>marketcap</th>\n",
       "      <th>price (USD)</th>\n",
       "      <th>country</th>\n",
       "      <th>IPO_year</th>\n",
       "      <th>capitalization</th>\n",
       "    </tr>\n",
       "  </thead>\n",
       "  <tbody>\n",
       "    <tr>\n",
       "      <th>521</th>\n",
       "      <td>865</td>\n",
       "      <td>4959</td>\n",
       "      <td>Geron</td>\n",
       "      <td>GERN</td>\n",
       "      <td>1091558656</td>\n",
       "      <td>2.01</td>\n",
       "      <td>United States</td>\n",
       "      <td>1996</td>\n",
       "      <td>low</td>\n",
       "    </tr>\n",
       "    <tr>\n",
       "      <th>522</th>\n",
       "      <td>866</td>\n",
       "      <td>4960</td>\n",
       "      <td>Perion Network</td>\n",
       "      <td>PERI</td>\n",
       "      <td>1091316480</td>\n",
       "      <td>23.20</td>\n",
       "      <td>Israel</td>\n",
       "      <td>1999</td>\n",
       "      <td>low</td>\n",
       "    </tr>\n",
       "    <tr>\n",
       "      <th>523</th>\n",
       "      <td>870</td>\n",
       "      <td>4967</td>\n",
       "      <td>Benchmark Electronics</td>\n",
       "      <td>BHE</td>\n",
       "      <td>1082945664</td>\n",
       "      <td>30.35</td>\n",
       "      <td>United States</td>\n",
       "      <td>1980</td>\n",
       "      <td>low</td>\n",
       "    </tr>\n",
       "    <tr>\n",
       "      <th>524</th>\n",
       "      <td>871</td>\n",
       "      <td>4969</td>\n",
       "      <td>Rajesh Exports</td>\n",
       "      <td>RAJESHEXPO.NS</td>\n",
       "      <td>1081169735</td>\n",
       "      <td>3.66</td>\n",
       "      <td>India</td>\n",
       "      <td>1995</td>\n",
       "      <td>low</td>\n",
       "    </tr>\n",
       "    <tr>\n",
       "      <th>525</th>\n",
       "      <td>875</td>\n",
       "      <td>4977</td>\n",
       "      <td>MacroGenics</td>\n",
       "      <td>MGNX</td>\n",
       "      <td>1071868096</td>\n",
       "      <td>17.28</td>\n",
       "      <td>United States</td>\n",
       "      <td>2001</td>\n",
       "      <td>low</td>\n",
       "    </tr>\n",
       "  </tbody>\n",
       "</table>\n",
       "</div>"
      ],
      "text/plain": [
       "     Unnamed: 0  Rank                   Name         Symbol   marketcap  \\\n",
       "521         865  4959                  Geron           GERN  1091558656   \n",
       "522         866  4960         Perion Network           PERI  1091316480   \n",
       "523         870  4967  Benchmark Electronics            BHE  1082945664   \n",
       "524         871  4969         Rajesh Exports  RAJESHEXPO.NS  1081169735   \n",
       "525         875  4977            MacroGenics           MGNX  1071868096   \n",
       "\n",
       "     price (USD)        country  IPO_year capitalization  \n",
       "521         2.01  United States      1996            low  \n",
       "522        23.20         Israel      1999            low  \n",
       "523        30.35  United States      1980            low  \n",
       "524         3.66          India      1995            low  \n",
       "525        17.28  United States      2001            low  "
      ]
     },
     "execution_count": 8,
     "metadata": {},
     "output_type": "execute_result"
    }
   ],
   "source": [
    "returns = pd.read_csv('../data/companies_after_2005.csv', encoding='latin1')\n",
    "returns.tail(5)"
   ]
  },
  {
   "cell_type": "code",
   "execution_count": null,
   "metadata": {},
   "outputs": [],
   "source": []
  }
 ],
 "metadata": {
  "kernelspec": {
   "display_name": "base",
   "language": "python",
   "name": "python3"
  },
  "language_info": {
   "codemirror_mode": {
    "name": "ipython",
    "version": 3
   },
   "file_extension": ".py",
   "mimetype": "text/x-python",
   "name": "python",
   "nbconvert_exporter": "python",
   "pygments_lexer": "ipython3",
   "version": "3.11.4"
  }
 },
 "nbformat": 4,
 "nbformat_minor": 2
}
