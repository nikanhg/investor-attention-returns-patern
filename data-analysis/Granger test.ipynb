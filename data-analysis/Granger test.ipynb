{
 "cells": [
  {
   "cell_type": "code",
   "execution_count": 2,
   "metadata": {},
   "outputs": [],
   "source": [
    "import pandas as pd\n",
    "from statsmodels.tsa.stattools import grangercausalitytests\n",
    "import numpy as np"
   ]
  },
  {
   "cell_type": "code",
   "execution_count": 9,
   "metadata": {},
   "outputs": [],
   "source": [
    "companies_with_cap = pd.read_csv('../data/companies_after_2005.csv', encoding='latin1')\n",
    "svi = pd.read_csv('../data/weekly_svi.csv', encoding='latin1')\n",
    "edgar = pd.read_csv('../data/edgar_all.csv', encoding='latin1')\n",
    "weekly_market = pd.read_csv('../data/Weekly_market.csv', encoding='latin1')\n",
    "#what should be in a dataset: company symbols, week number, week return,week volume, svi, edgar, cap size\n",
    "#to see: returns from svi all, retturns from svi high, returns from svi low, returns from edgar all/high/all\n",
    "#the same with volume (function)\n",
    "#How to choose a lag"
   ]
  },
  {
   "cell_type": "code",
   "execution_count": null,
   "metadata": {},
   "outputs": [],
   "source": [
    "#test function \n",
    "def grangertest(X, Y, lag_num, verbose=True):\n",
    "    \"\"\"\n",
    "    Perform the Granger Causality Test on two time series.\n",
    "\n",
    "    Parameters:\n",
    "    - X: pandas Series or DataFrame\n",
    "    - Y: pandas Series or DataFrame\n",
    "    - lag_num: int, the number of lags to consider in the test\n",
    "    - verbose: bool, whether to print the test results (default is True)\n",
    "\n",
    "    Returns:\n",
    "    - None\n",
    "    \"\"\"\n",
    "    # Check if input data is a DataFrame, if not, convert to DataFrame\n",
    "    if not isinstance(X, pd.DataFrame):\n",
    "        X = pd.DataFrame(X, columns=['X'])\n",
    "    if not isinstance(Y, pd.DataFrame):\n",
    "        Y = pd.DataFrame(Y, columns=['Y'])\n",
    "\n",
    "    # Concatenate X and Y for the Granger Causality Test\n",
    "    data = pd.concat([X, Y], axis=1)\n",
    "\n",
    "    # Perform Granger Causality Test\n",
    "    test_result = grangercausalitytests(data, lag_num, verbose=verbose)\n",
    "\n",
    "    # Extract the p-values from the test results\n",
    "    p_values = [test_result[i+1][0]['ssr_ftest'][1] for i in range(lag_num)]\n",
    "\n",
    "    # Print the test statistics and conclusion\n",
    "    if verbose:\n",
    "        print(f\"Granger Causality Test Results:\")\n",
    "        for i in range(1, lag_num + 1):\n",
    "            print(f\"\\nLag {i} - p-value: {p_values[i-1]}\")\n",
    "            if p_values[i-1] < 0.05:\n",
    "                print(f\"Conclusion: There is Granger causality at lag {i}\")\n",
    "            else:\n",
    "                print(f\"Conclusion: There is no Granger causality at lag {i}\")\n"
   ]
  },
  {
   "cell_type": "code",
   "execution_count": null,
   "metadata": {},
   "outputs": [],
   "source": []
  }
 ],
 "metadata": {
  "kernelspec": {
   "display_name": "base",
   "language": "python",
   "name": "python3"
  },
  "language_info": {
   "codemirror_mode": {
    "name": "ipython",
    "version": 3
   },
   "file_extension": ".py",
   "mimetype": "text/x-python",
   "name": "python",
   "nbconvert_exporter": "python",
   "pygments_lexer": "ipython3",
   "version": "3.11.4"
  }
 },
 "nbformat": 4,
 "nbformat_minor": 2
}
