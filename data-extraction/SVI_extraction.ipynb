{
 "cells": [
  {
   "cell_type": "code",
   "execution_count": 1,
   "metadata": {},
   "outputs": [],
   "source": [
    "import pandas as pd\n",
    "import numpy as np\n",
    "import sys\n",
    "from pytrends.request import TrendReq\n",
    "import time\n",
    "import warnings\n",
    "warnings.filterwarnings(\"ignore\")\n",
    "sys.path.append('../methods')\n",
    "from SVI_methods import index_with_dates"
   ]
  },
  {
   "cell_type": "code",
   "execution_count": 2,
   "metadata": {},
   "outputs": [],
   "source": [
    "companies = pd.read_csv(\"../data/companies_after_2005.csv\")\n",
    "symbols = np.array(companies['Symbol'])"
   ]
  },
  {
   "cell_type": "code",
   "execution_count": 4,
   "metadata": {},
   "outputs": [
    {
     "name": "stdout",
     "output_type": "stream",
     "text": [
      "The request failed: Google returned a response with code 429\n",
      "error has occured for ['MSFT'], 2005-01-01 to 2023-12-01\n"
     ]
    }
   ],
   "source": [
    "# for s in symbols: \n",
    "#      x = index_with_dates([s], \"2005-01-01\", \"2023-12-01\")\n",
    "#      print(x)\n",
    "\n",
    "index_with_dates([symbols[0]], \"2005-01-01\", \"2023-12-01\")"
   ]
  },
  {
   "cell_type": "code",
   "execution_count": null,
   "metadata": {},
   "outputs": [],
   "source": []
  },
  {
   "cell_type": "code",
   "execution_count": 12,
   "metadata": {},
   "outputs": [
    {
     "name": "stdout",
     "output_type": "stream",
     "text": [
      "error has occured for ['AAPL'], 2005-01-01 to 2023-12-01\n",
      "AAPL has an error\n",
      "error has occured for ['NVDA'], 2005-01-01 to 2023-12-01\n",
      "NVDA has an error\n",
      "error has occured for ['AMZN'], 2005-01-01 to 2023-12-01\n",
      "AMZN has an error\n",
      "error has occured for ['GOOG'], 2005-01-01 to 2023-12-01\n",
      "GOOG has an error\n",
      "error has occured for ['BRK-B'], 2005-01-01 to 2023-12-01\n",
      "BRK-B has an error\n",
      "error has occured for ['LLY'], 2005-01-01 to 2023-12-01\n",
      "LLY has an error\n",
      "error has occured for ['TSM'], 2005-01-01 to 2023-12-01\n",
      "TSM has an error\n",
      "error has occured for ['NVO'], 2005-01-01 to 2023-12-01\n",
      "NVO has an error\n",
      "error has occured for ['JPM'], 2005-01-01 to 2023-12-01\n",
      "JPM has an error\n",
      "error has occured for ['UNH'], 2005-01-01 to 2023-12-01\n",
      "UNH has an error\n",
      "error has occured for ['WMT'], 2005-01-01 to 2023-12-01\n",
      "WMT has an error\n",
      "error has occured for ['XOM'], 2005-01-01 to 2023-12-01\n",
      "XOM has an error\n",
      "error has occured for ['JNJ'], 2005-01-01 to 2023-12-01\n",
      "JNJ has an error\n",
      "error has occured for ['PG'], 2005-01-01 to 2023-12-01\n",
      "PG has an error\n",
      "error has occured for ['ASML'], 2005-01-01 to 2023-12-01\n",
      "ASML has an error\n",
      "error has occured for ['HD'], 2005-01-01 to 2023-12-01\n",
      "HD has an error\n",
      "error has occured for ['MRK'], 2005-01-01 to 2023-12-01\n",
      "MRK has an error\n",
      "error has occured for ['COST'], 2005-01-01 to 2023-12-01\n",
      "COST has an error\n",
      "error has occured for ['TM'], 2005-01-01 to 2023-12-01\n",
      "TM has an error\n",
      "error has occured for ['ORCL'], 2005-01-01 to 2023-12-01\n",
      "ORCL has an error\n",
      "error has occured for ['CVX'], 2005-01-01 to 2023-12-01\n",
      "CVX has an error\n",
      "error has occured for ['AMD'], 2005-01-01 to 2023-12-01\n",
      "AMD has an error\n",
      "error has occured for ['CRM'], 2005-01-01 to 2023-12-01\n",
      "CRM has an error\n",
      "error has occured for ['BAC'], 2005-01-01 to 2023-12-01\n",
      "BAC has an error\n",
      "error has occured for ['KO'], 2005-01-01 to 2023-12-01\n",
      "KO has an error\n",
      "error has occured for ['NFLX'], 2005-01-01 to 2023-12-01\n",
      "NFLX has an error\n",
      "error has occured for ['ADBE'], 2005-01-01 to 2023-12-01\n",
      "ADBE has an error\n",
      "error has occured for ['ACN'], 2005-01-01 to 2023-12-01\n",
      "ACN has an error\n",
      "error has occured for ['PEP'], 2005-01-01 to 2023-12-01\n",
      "PEP has an error\n",
      "error has occured for ['TMO'], 2005-01-01 to 2023-12-01\n",
      "TMO has an error\n",
      "error has occured for ['MCD'], 2005-01-01 to 2023-12-01\n",
      "MCD has an error\n",
      "error has occured for ['SAP'], 2005-01-01 to 2023-12-01\n",
      "SAP has an error\n",
      "error has occured for ['DIS'], 2005-01-01 to 2023-12-01\n",
      "DIS has an error\n",
      "error has occured for ['601857.SS'], 2005-01-01 to 2023-12-01\n",
      "601857.SS has an error\n",
      "error has occured for ['AZN'], 2005-01-01 to 2023-12-01\n",
      "AZN has an error\n",
      "error has occured for ['ABT'], 2005-01-01 to 2023-12-01\n",
      "ABT has an error\n",
      "error has occured for ['CSCO'], 2005-01-01 to 2023-12-01\n",
      "CSCO has an error\n",
      "error has occured for ['TMUS'], 2005-01-01 to 2023-12-01\n",
      "TMUS has an error\n",
      "error has occured for ['WFC'], 2005-01-01 to 2023-12-01\n",
      "WFC has an error\n",
      "error has occured for ['DHR'], 2005-01-01 to 2023-12-01\n",
      "DHR has an error\n",
      "error has occured for ['INTC'], 2005-01-01 to 2023-12-01\n",
      "INTC has an error\n",
      "error has occured for ['INTU'], 2005-01-01 to 2023-12-01\n",
      "INTU has an error\n",
      "error has occured for ['IBM'], 2005-01-01 to 2023-12-01\n",
      "IBM has an error\n",
      "error has occured for ['QCOM'], 2005-01-01 to 2023-12-01\n",
      "QCOM has an error\n",
      "error has occured for ['VZ'], 2005-01-01 to 2023-12-01\n",
      "VZ has an error\n",
      "error has occured for ['AMAT'], 2005-01-01 to 2023-12-01\n",
      "AMAT has an error\n",
      "error has occured for ['CMCSA'], 2005-01-01 to 2023-12-01\n",
      "CMCSA has an error\n"
     ]
    }
   ],
   "source": [
    "monthly_svi = pd.DataFrame(columns = ['symbol','date', 'svi'])\n",
    "\n",
    "bad_symbols = []\n",
    "for s in symbols: \n",
    "     x = index_with_dates([s], \"2005-01-01\", \"2023-12-01\")\n",
    "     if isinstance(x, pd.DataFrame):\n",
    "          new_df = pd.DataFrame(columns = ['symbol','date', 'svi'])\n",
    "          new_df['date'] = x.index\n",
    "          new_df['svi'] = x.iloc[:,0].values\n",
    "          new_df['symbol'] = s\n",
    "          monthly_svi = pd.concat([monthly_svi,new_df], axis = 0)\n",
    "          monthly_svi.reset_index(inplace=True, drop=True)\n",
    "          time.sleep(10)\n",
    "     else:\n",
    "          print(s, \"has an error\")\n",
    "          bad_symbols.append(s)\n"
   ]
  },
  {
   "cell_type": "code",
   "execution_count": 9,
   "metadata": {},
   "outputs": [
    {
     "data": {
      "text/plain": [
       "['MSFT', 'AAPL', 'NVDA', 'AMZN', 'GOOG', 'BRK-B', 'LLY', 'TSM']"
      ]
     },
     "execution_count": 9,
     "metadata": {},
     "output_type": "execute_result"
    }
   ],
   "source": [
    "bad_symbols"
   ]
  },
  {
   "cell_type": "code",
   "execution_count": 29,
   "metadata": {},
   "outputs": [
    {
     "data": {
      "text/plain": [
       "array(['MSFT', 'AAPL', 'NVDA', 'AMZN', 'GOOG', 'BRK-B', 'LLY', 'TSM',\n",
       "       'NVO', 'JPM', 'UNH', 'WMT', 'XOM', 'JNJ', 'IDEXY', 'BDX', 'ADSK'],\n",
       "      dtype=object)"
      ]
     },
     "execution_count": 29,
     "metadata": {},
     "output_type": "execute_result"
    }
   ],
   "source": [
    "monthly_svi['symbol'].unique()"
   ]
  },
  {
   "cell_type": "code",
   "execution_count": 30,
   "metadata": {},
   "outputs": [
    {
     "data": {
      "text/plain": [
       "array(['MSFT', 'AAPL', 'NVDA', 'AMZN', 'GOOG', 'BRK-B', 'LLY', 'TSM',\n",
       "       'NVO', 'JPM', 'UNH', 'WMT', 'XOM', 'JNJ', 'PG', 'ASML', 'HD',\n",
       "       'TCEHY', 'MRK', 'COST', 'TM', 'ORCL', 'CVX', 'AMD', 'CRM', 'BAC',\n",
       "       'KO', 'NFLX', 'ADBE', 'ACN', 'PEP', 'TMO', 'MCD', 'SAP', 'DIS',\n",
       "       '601857.SS', 'AZN', 'ABT', 'CSCO', 'TMUS', 'WFC', 'DHR', 'INTC',\n",
       "       'INTU', 'IBM', 'QCOM', 'VZ', 'AMAT', 'CMCSA', 'CAT', 'NKE', 'PFE',\n",
       "       'AXP', 'AMGN', 'UNP', 'TXN', 'SIE.DE', 'MS', 'RY', 'HDB', 'ISRG',\n",
       "       'SPGI', 'SYK', 'IDEXY', 'LOW', 'COP', 'HON', 'BKNG', 'UL', 'UPS',\n",
       "       'PLD', 'AIR.PA', 'GS', 'BA', 'BUD', 'LRCX', 'T', 'RTX', 'DTE.DE',\n",
       "       'BLK', 'SCHW', 'NEE', 'SNY', 'PBR', 'MDT', 'RIO', 'TJX', '6861.T',\n",
       "       'PGR', 'SONY', '8035.T', 'VRTX', 'TD', 'SBUX', 'C', 'ALV.DE',\n",
       "       'REGN', 'ADP', 'LMT', 'DE', 'BMY', 'BP', 'CI', 'MMC', '601628.SS',\n",
       "       'CVS', 'MDLZ', 'AI.PA', 'BSX', '601318.SS', 'ADI', 'EL.PA',\n",
       "       'CSL.AX', 'KLAC', 'GILD', 'FI', 'MU', 'AMT', 'IBN', '9983.T',\n",
       "       'GSK', 'INFY', 'SNPS', '8058.T', 'ABBN.SW', 'CNI', '0883.HK',\n",
       "       'HCA', '4063.T', 'DEO', '9984.T', 'SBIN.NS', 'WM', 'RELX', 'EQIX',\n",
       "       'CP', 'BHARTIARTL.NS', 'P911.DE', 'SHW', 'CDNS', 'CME',\n",
       "       'ATCO-B.ST', '000660.KS', 'ITW', '6501.T', 'CS.PA', 'BMW.DE', 'GD',\n",
       "       'INVE-B.ST', 'ZURN.SW', 'ENB', 'MRK.DE', 'IBE.MC', 'SO', 'CSX',\n",
       "       '002594.SZ', 'DG.PA', 'MO', 'NTES', 'SMFG', 'WMMVF', 'MAR',\n",
       "       'VOW3.DE', 'BDX', 'SLB', '7974.T', 'TGT', 'CL', 'BMO', 'ITUB',\n",
       "       'MCO', 'NOC', 'NAB.AX', 'BNP.PA', 'MCK', 'PH', 'EOG', 'D05.SI',\n",
       "       'ENEL.MI', '4519.T', 'SCCO', 'USB', '6098.T', '9433.T', 'PYPL',\n",
       "       'APH', 'SAN', 'DSY.PA', '4568.T', 'CTAS', 'ORLY', 'AON', 'TT',\n",
       "       'ECL', 'LSEG.L', 'EMR', 'DELL', 'FDX', 'PNC', 'EPD', '8766.T',\n",
       "       'VALE', 'ROP', '4661.T', 'BNS', 'MRVL', 'FMG.AX', 'AMX', 'RSG',\n",
       "       'BBVA', 'HMC', 'SPG', 'WBC.AX', 'FCX', 'ANZ.AX', 'ADSK',\n",
       "       'HCLTECH.NS', 'PXD', 'UCG.MI', 'WELL', 'EL', '6902.T', 'COF', 'EW',\n",
       "       'MMM', 'E', 'TRV', 'MET', 'PSA', 'F', 'ROST', 'MQG.AX', 'NGG',\n",
       "       'TFC', 'AIG', 'VLO', 'BA.L', 'AZO', 'CPRT', 'IFX.DE', 'CCI', 'DHI',\n",
       "       'WES.AX', 'MFG', 'ODFL', 'IDXX', 'AFL', '2914.T', 'NUE', 'HES',\n",
       "       'BAS.DE', 'MFC', 'STZ', 'PAYX', 'SRE', 'O39.SI', 'ADANIENT.NS',\n",
       "       'HUM', '601899.SS', 'MCHP', 'ING', 'HOLN.SW', 'URI', '7741.T',\n",
       "       'SUNPHARMA.NS', 'O', 'DLR', 'WCN', 'MARUTI.NS', 'BMRI.JK', 'SU',\n",
       "       'CM', 'RI.PA', 'AEP', 'CHTR', 'ALL', 'BN.PA', '6367.T', 'CNC',\n",
       "       'OKE', 'LEN', 'WMB', 'LVS', 'KOTAKBANK.NS', 'NDA-FI.HE',\n",
       "       'TATAMOTORS.NS', 'TRP', '600030.SS', '0388.HK', 'STM', 'ABEV',\n",
       "       'FERG', 'FAST', 'AME', 'ACA.PA', 'KMB', 'AXISBANK.BO', 'GMBXF',\n",
       "       'SYY', 'A', 'NTPC.NS', 'CAP.PA', 'TITAN.NS', 'HSY', 'PRU', 'NEM',\n",
       "       'D', '6981.T', 'CTSH', 'ALC', 'LNG', 'CQP', 'EA', 'WDS', 'YUM',\n",
       "       'CMI', 'SGO.PA', 'FIS', 'QNBK.QA', 'WKL.AS', 'KFH.KW', 'DB1.DE',\n",
       "       '600276.SS', '601998.SS', 'GIS', 'U11.SI', '6273.T', 'IR',\n",
       "       'GMG.AX', 'MPWR', 'IT', 'ASIANPAINT.NS', 'EXC', 'G.MI', 'GPN',\n",
       "       '6857.T', '000270.KS', 'BCE', 'ULTRACEMCO.NS', 'LYG', 'RR.L', 'KR',\n",
       "       'WIT', 'ADS.DE', 'VMC', 'ON', 'BEI.DE', 'PPG', 'MLM', 'BBAS3.SA',\n",
       "       'CSGP', 'SREN.SW', 'MLYBY', 'EOAN.DE', 'XEL', 'L.TO', 'ACGL',\n",
       "       'IMO', 'ROK', '6146.T', 'NDAQ', 'FICO', 'BIIB', 'EFX', 'RYAAY',\n",
       "       'GFNORTEO.MX', '6503.T', 'SLF', 'HAL', 'DLTR', 'DG', 'IOC.NS',\n",
       "       'EXR', 'ORAN', 'POWERGRID.NS', 'PWR', '6201.T', 'SEB-A.ST',\n",
       "       '2382.TW', 'ASM.AS', 'AAL.L', 'III.L', 'BAYN.DE', 'PFV.F',\n",
       "       'GNE.NZ', 'DNN', 'ACE.NS', 'FBU.NZ', '0142.HK', 'TWEKA.AS', 'VEON',\n",
       "       'KWS.F', 'VRTS', '7313.T', 'LKFN', 'CPRX', '0010.HK', 'TRMK',\n",
       "       'BANPU.BK', 'NBTB', 'CXW', 'BAR.BR', 'POM.PA', '004990.KS', 'BB',\n",
       "       'THRM', 'HBM.HM', 'STLC.TO', 'PEAB-B.ST', 'LZB', 'KPROJ.KW',\n",
       "       'NSSC', 'SPNS', 'KTY.WA', 'DVAX', 'EIF.TO', 'TTMI',\n",
       "       'ASAHIINDIA.NS', 'TDS', 'CBRL', 'TARO', 'NTCT', 'BEML.NS',\n",
       "       'CENTEL.BK', 'CSGS', 'EXTR', 'TPE.WA', 'GMDCLTD.NS', 'MRTN', 'OXM',\n",
       "       'FRU.TO', 'BANR', 'HLX', 'SZG.F', 'GNS.L', 'JACK', 'AMWD',\n",
       "       'VAIAS.HE', 'PSM.F', 'GPRE', 'UFPT', 'LIF.TO', 'KTN.F',\n",
       "       'ENGINERSIN.NS', '0303.HK', '5301.T', '002380.KS', '8698.T',\n",
       "       'FBNC', 'FNLC', 'GTY', 'ZENSARTECH.NS', 'RDF.JO', 'FWRG', 'HWKN',\n",
       "       'HTLF', '2343.HK', 'GIII', 'IMKTA', 'CFP.TO', 'ENGH.TO', 'CTS',\n",
       "       'BAJAJELEC.NS', 'NWC.TO', 'CEATLTD.NS', '041510.KQ', 'SYBT',\n",
       "       'BETS-B.ST', 'ATEA.OL', 'FCF', 'SPOL.OL', 'LNN', 'LTC', 'CAL',\n",
       "       'KFRC', 'COR.LS', 'GES', 'NWN', 'PDFS', 'WG.L', 'GRANULES.NS',\n",
       "       'INGERRAND.NS', 'ANZFF', 'AG', 'ALHE.TA', 'PM6A.F', 'GIMB.BR',\n",
       "       '004170.KS', 'OMCL', '7476.T', 'ISN.SW', 'LGND', 'BUSE', 'SMTC',\n",
       "       'ICAP.AE', 'MTRN.TA', 'TYRES.HE', 'DBD', 'SPH', 'IBULHSGFIN.NS',\n",
       "       'NCC-B.ST', 'CMCO', 'PCT.NZ', 'CUB.NS', 'WABC', 'MDA.TO',\n",
       "       '0778.HK', 'MASTEK.NS', 'RPT', 'TGI', 'AIV', 'INE.TO', 'MFG.AX',\n",
       "       'MFA', 'PRAJIND.NS', 'NX', 'NEULANDLAB.NS', 'PNE3.DE', 'EKT.DE',\n",
       "       'CGAU', 'PRAA', 'GERN', 'PERI', 'BHE', 'RAJESHEXPO.NS', 'MGNX'],\n",
       "      dtype=object)"
      ]
     },
     "execution_count": 30,
     "metadata": {},
     "output_type": "execute_result"
    }
   ],
   "source": [
    "symbols"
   ]
  },
  {
   "cell_type": "code",
   "execution_count": 32,
   "metadata": {},
   "outputs": [],
   "source": [
    "x = index_with_dates(['HD'], \"2005-01-01\", \"2023-12-01\")"
   ]
  },
  {
   "cell_type": "code",
   "execution_count": 33,
   "metadata": {},
   "outputs": [
    {
     "data": {
      "text/html": [
       "<div>\n",
       "<style scoped>\n",
       "    .dataframe tbody tr th:only-of-type {\n",
       "        vertical-align: middle;\n",
       "    }\n",
       "\n",
       "    .dataframe tbody tr th {\n",
       "        vertical-align: top;\n",
       "    }\n",
       "\n",
       "    .dataframe thead th {\n",
       "        text-align: right;\n",
       "    }\n",
       "</style>\n",
       "<table border=\"1\" class=\"dataframe\">\n",
       "  <thead>\n",
       "    <tr style=\"text-align: right;\">\n",
       "      <th></th>\n",
       "      <th>HD</th>\n",
       "      <th>isPartial</th>\n",
       "    </tr>\n",
       "    <tr>\n",
       "      <th>date</th>\n",
       "      <th></th>\n",
       "      <th></th>\n",
       "    </tr>\n",
       "  </thead>\n",
       "  <tbody>\n",
       "    <tr>\n",
       "      <th>2005-01-01</th>\n",
       "      <td>5</td>\n",
       "      <td>False</td>\n",
       "    </tr>\n",
       "    <tr>\n",
       "      <th>2005-02-01</th>\n",
       "      <td>5</td>\n",
       "      <td>False</td>\n",
       "    </tr>\n",
       "    <tr>\n",
       "      <th>2005-03-01</th>\n",
       "      <td>5</td>\n",
       "      <td>False</td>\n",
       "    </tr>\n",
       "    <tr>\n",
       "      <th>2005-04-01</th>\n",
       "      <td>4</td>\n",
       "      <td>False</td>\n",
       "    </tr>\n",
       "    <tr>\n",
       "      <th>2005-05-01</th>\n",
       "      <td>4</td>\n",
       "      <td>False</td>\n",
       "    </tr>\n",
       "    <tr>\n",
       "      <th>...</th>\n",
       "      <td>...</td>\n",
       "      <td>...</td>\n",
       "    </tr>\n",
       "    <tr>\n",
       "      <th>2023-08-01</th>\n",
       "      <td>35</td>\n",
       "      <td>False</td>\n",
       "    </tr>\n",
       "    <tr>\n",
       "      <th>2023-09-01</th>\n",
       "      <td>35</td>\n",
       "      <td>False</td>\n",
       "    </tr>\n",
       "    <tr>\n",
       "      <th>2023-10-01</th>\n",
       "      <td>34</td>\n",
       "      <td>False</td>\n",
       "    </tr>\n",
       "    <tr>\n",
       "      <th>2023-11-01</th>\n",
       "      <td>34</td>\n",
       "      <td>False</td>\n",
       "    </tr>\n",
       "    <tr>\n",
       "      <th>2023-12-01</th>\n",
       "      <td>35</td>\n",
       "      <td>False</td>\n",
       "    </tr>\n",
       "  </tbody>\n",
       "</table>\n",
       "<p>228 rows × 2 columns</p>\n",
       "</div>"
      ],
      "text/plain": [
       "            HD  isPartial\n",
       "date                     \n",
       "2005-01-01   5      False\n",
       "2005-02-01   5      False\n",
       "2005-03-01   5      False\n",
       "2005-04-01   4      False\n",
       "2005-05-01   4      False\n",
       "...         ..        ...\n",
       "2023-08-01  35      False\n",
       "2023-09-01  35      False\n",
       "2023-10-01  34      False\n",
       "2023-11-01  34      False\n",
       "2023-12-01  35      False\n",
       "\n",
       "[228 rows x 2 columns]"
      ]
     },
     "execution_count": 33,
     "metadata": {},
     "output_type": "execute_result"
    }
   ],
   "source": [
    "x"
   ]
  },
  {
   "cell_type": "code",
   "execution_count": null,
   "metadata": {},
   "outputs": [],
   "source": []
  }
 ],
 "metadata": {
  "kernelspec": {
   "display_name": "base",
   "language": "python",
   "name": "python3"
  },
  "language_info": {
   "codemirror_mode": {
    "name": "ipython",
    "version": 3
   },
   "file_extension": ".py",
   "mimetype": "text/x-python",
   "name": "python",
   "nbconvert_exporter": "python",
   "pygments_lexer": "ipython3",
   "version": "3.11.5"
  }
 },
 "nbformat": 4,
 "nbformat_minor": 2
}
